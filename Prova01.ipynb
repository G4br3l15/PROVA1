{
 "cells": [
  {
   "cell_type": "code",
   "execution_count": 9,
   "id": "7636fd15-3130-462d-a39f-9db1c979baf7",
   "metadata": {},
   "outputs": [
    {
     "name": "stdout",
     "output_type": "stream",
     "text": [
      "3\n"
     ]
    }
   ],
   "source": [
    "#prova\n",
    "\n",
    "class No:\n",
    "    def __init__(self, valor):  \n",
    "        self.valor = valor\n",
    "        self.proximo = None\n",
    "\n",
    "class ListaEncadeada:\n",
    "    def __init__(self):  \n",
    "        self.inicio = None\n",
    "\n",
    "    def inserir(self, valor):\n",
    "        novo_no = No(valor)\n",
    "        if self.inicio is None:\n",
    "            self.inicio = novo_no\n",
    "        else:\n",
    "            atual = self.inicio\n",
    "            while atual.proximo:\n",
    "                atual = atual.proximo\n",
    "            atual.proximo = novo_no\n",
    "\n",
    "    def contar(self):\n",
    "        contagem = 0\n",
    "        atual = self.inicio\n",
    "        while atual:\n",
    "            contagem += 1\n",
    "            atual = atual.proximo\n",
    "        return contagem\n",
    "\n",
    "listas = ListaEncadeada()\n",
    "listas.inserir(5)\n",
    "listas.inserir(15)\n",
    "listas.inserir(25)\n",
    "\n",
    "print(lista.contar())  \n",
    "\n"
   ]
  },
  {
   "cell_type": "code",
   "execution_count": null,
   "id": "bf39b555-7bd1-4bca-a55f-cddf50ded3f0",
   "metadata": {},
   "outputs": [],
   "source": []
  }
 ],
 "metadata": {
  "kernelspec": {
   "display_name": "Python [conda env:base] *",
   "language": "python",
   "name": "conda-base-py"
  },
  "language_info": {
   "codemirror_mode": {
    "name": "ipython",
    "version": 3
   },
   "file_extension": ".py",
   "mimetype": "text/x-python",
   "name": "python",
   "nbconvert_exporter": "python",
   "pygments_lexer": "ipython3",
   "version": "3.12.7"
  }
 },
 "nbformat": 4,
 "nbformat_minor": 5
}
